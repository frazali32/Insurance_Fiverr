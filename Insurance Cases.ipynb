{
 "cells": [
  {
   "cell_type": "markdown",
   "metadata": {},
   "source": [
    "## INSURANCE CASE CANADA\n",
    "\n",
    "A car insurance company has information about renewal rates for 20,000 customers. They want to know about the __key drivers__ that influence a customer's decision. This information will help them determine the changes,if any, this firm needs to make in order to achieve its targets.\n",
    "\n",
    "First Let's import all required packages."
   ]
  },
  {
   "cell_type": "code",
   "execution_count": 15,
   "metadata": {},
   "outputs": [],
   "source": [
    "import pandas as pd\n",
    "import itertools\n",
    "import numpy as np\n",
    "import seaborn as sns\n",
    "import matplotlib.pyplot as plt\n",
    "from matplotlib.ticker import NullFormatter\n",
    "import matplotlib.ticker as ticker\n",
    "from sklearn import preprocessing\n",
    "from sklearn.model_selection import train_test_split\n",
    "from sklearn.linear_model import LogisticRegression\n",
    "from sklearn.metrics import jaccard_score\n",
    "from sklearn import metrics"
   ]
  },
  {
   "cell_type": "markdown",
   "metadata": {},
   "source": [
    " ## Data Inputing and Cleaning.\n",
    " \n",
    " \n",
    " Let's now load the dataset to see the information we are going to be working with."
   ]
  },
  {
   "cell_type": "code",
   "execution_count": 16,
   "metadata": {},
   "outputs": [
    {
     "data": {
      "text/html": [
       "<div>\n",
       "<style scoped>\n",
       "    .dataframe tbody tr th:only-of-type {\n",
       "        vertical-align: middle;\n",
       "    }\n",
       "\n",
       "    .dataframe tbody tr th {\n",
       "        vertical-align: top;\n",
       "    }\n",
       "\n",
       "    .dataframe thead th {\n",
       "        text-align: right;\n",
       "    }\n",
       "</style>\n",
       "<table border=\"1\" class=\"dataframe\">\n",
       "  <thead>\n",
       "    <tr style=\"text-align: right;\">\n",
       "      <th></th>\n",
       "      <th>Marital Status</th>\n",
       "      <th>AGE</th>\n",
       "      <th>Gender</th>\n",
       "      <th>Car Value</th>\n",
       "      <th>Years of No Claims Bonus</th>\n",
       "      <th>Annual Mileage</th>\n",
       "      <th>Payment Method</th>\n",
       "      <th>Acquisition Channel</th>\n",
       "      <th>Years of Tenure with Current Provider</th>\n",
       "      <th>Price</th>\n",
       "      <th>Actual Change in Price vs last Year</th>\n",
       "      <th>Renewed?</th>\n",
       "    </tr>\n",
       "  </thead>\n",
       "  <tbody>\n",
       "    <tr>\n",
       "      <td>0</td>\n",
       "      <td>M</td>\n",
       "      <td>45</td>\n",
       "      <td>F</td>\n",
       "      <td>500</td>\n",
       "      <td>4</td>\n",
       "      <td>6000</td>\n",
       "      <td>Monthly</td>\n",
       "      <td>Inbound</td>\n",
       "      <td>4</td>\n",
       "      <td>289.4</td>\n",
       "      <td>-11.94</td>\n",
       "      <td>0</td>\n",
       "    </tr>\n",
       "    <tr>\n",
       "      <td>1</td>\n",
       "      <td>M</td>\n",
       "      <td>40</td>\n",
       "      <td>M</td>\n",
       "      <td>3000</td>\n",
       "      <td>8</td>\n",
       "      <td>6000</td>\n",
       "      <td>Monthly</td>\n",
       "      <td>Inbound</td>\n",
       "      <td>4</td>\n",
       "      <td>170.4</td>\n",
       "      <td>45.62</td>\n",
       "      <td>1</td>\n",
       "    </tr>\n",
       "    <tr>\n",
       "      <td>2</td>\n",
       "      <td>S</td>\n",
       "      <td>25</td>\n",
       "      <td>F</td>\n",
       "      <td>4000</td>\n",
       "      <td>4</td>\n",
       "      <td>4000</td>\n",
       "      <td>Monthly</td>\n",
       "      <td>Inbound</td>\n",
       "      <td>4</td>\n",
       "      <td>466.1</td>\n",
       "      <td>-123.15</td>\n",
       "      <td>1</td>\n",
       "    </tr>\n",
       "    <tr>\n",
       "      <td>3</td>\n",
       "      <td>M</td>\n",
       "      <td>42</td>\n",
       "      <td>M</td>\n",
       "      <td>1800</td>\n",
       "      <td>9</td>\n",
       "      <td>10000</td>\n",
       "      <td>Annual</td>\n",
       "      <td>Inbound</td>\n",
       "      <td>4</td>\n",
       "      <td>245.1</td>\n",
       "      <td>2.34</td>\n",
       "      <td>1</td>\n",
       "    </tr>\n",
       "    <tr>\n",
       "      <td>4</td>\n",
       "      <td>M</td>\n",
       "      <td>59</td>\n",
       "      <td>M</td>\n",
       "      <td>5000</td>\n",
       "      <td>9</td>\n",
       "      <td>3000</td>\n",
       "      <td>Annual</td>\n",
       "      <td>Inbound</td>\n",
       "      <td>4</td>\n",
       "      <td>240.5</td>\n",
       "      <td>42.56</td>\n",
       "      <td>0</td>\n",
       "    </tr>\n",
       "  </tbody>\n",
       "</table>\n",
       "</div>"
      ],
      "text/plain": [
       "  Marital Status  AGE Gender  Car Value  Years of No Claims Bonus  \\\n",
       "0              M   45      F        500                         4   \n",
       "1              M   40      M       3000                         8   \n",
       "2              S   25      F       4000                         4   \n",
       "3              M   42      M       1800                         9   \n",
       "4              M   59      M       5000                         9   \n",
       "\n",
       "   Annual Mileage Payment Method Acquisition Channel  \\\n",
       "0            6000        Monthly             Inbound   \n",
       "1            6000        Monthly             Inbound   \n",
       "2            4000        Monthly             Inbound   \n",
       "3           10000         Annual             Inbound   \n",
       "4            3000         Annual             Inbound   \n",
       "\n",
       "   Years of Tenure with Current Provider  Price  \\\n",
       "0                                      4  289.4   \n",
       "1                                      4  170.4   \n",
       "2                                      4  466.1   \n",
       "3                                      4  245.1   \n",
       "4                                      4  240.5   \n",
       "\n",
       "   Actual Change in Price vs last Year  Renewed?  \n",
       "0                               -11.94         0  \n",
       "1                                45.62         1  \n",
       "2                              -123.15         1  \n",
       "3                                 2.34         1  \n",
       "4                                42.56         0  "
      ]
     },
     "execution_count": 16,
     "metadata": {},
     "output_type": "execute_result"
    }
   ],
   "source": [
    "df= pd.read_csv(\"Insurance case_Canada (2).csv\")\n",
    "# Some rows were removed from the original dataset which had #Value!\n",
    "# written in some columns instead of value.\n",
    "\n",
    "df.drop('Grouped Change in Price', axis=1, inplace=True)\n",
    "# this column was not needed\n",
    "\n",
    "lst = df['% Change in Price vs last Year'].tolist()\n",
    "df.drop('% Change in Price vs last Year', axis=1, inplace=True)\n",
    "\n",
    "# This column will be modified and added again in future.\n",
    "new_lst = []\n",
    "for item in lst:\n",
    "    new_lst.append(item.strip(\"%\"))\n",
    "new_lst1 = [float(i)/100 for i in new_lst]\n",
    "df.head()"
   ]
  },
  {
   "cell_type": "markdown",
   "metadata": {},
   "source": [
    "It seems there are a number of independent variables that are categorical in nature. For successful interpretation, these variables need to be given a numerical value. We shall use __Dummy coding__ to modify our data frame."
   ]
  },
  {
   "cell_type": "code",
   "execution_count": 17,
   "metadata": {},
   "outputs": [
    {
     "data": {
      "text/html": [
       "<div>\n",
       "<style scoped>\n",
       "    .dataframe tbody tr th:only-of-type {\n",
       "        vertical-align: middle;\n",
       "    }\n",
       "\n",
       "    .dataframe tbody tr th {\n",
       "        vertical-align: top;\n",
       "    }\n",
       "\n",
       "    .dataframe thead th {\n",
       "        text-align: right;\n",
       "    }\n",
       "</style>\n",
       "<table border=\"1\" class=\"dataframe\">\n",
       "  <thead>\n",
       "    <tr style=\"text-align: right;\">\n",
       "      <th></th>\n",
       "      <th>Car Value</th>\n",
       "      <th>AGE</th>\n",
       "      <th>Years of No Claims Bonus</th>\n",
       "      <th>Annual Mileage</th>\n",
       "      <th>Years of Tenure with Current Provider</th>\n",
       "      <th>Price</th>\n",
       "      <th>Actual Change in Price vs last Year</th>\n",
       "      <th>Renewed?</th>\n",
       "      <th>% Change in Price vs last Year</th>\n",
       "      <th>D</th>\n",
       "      <th>...</th>\n",
       "      <th>W</th>\n",
       "      <th>C</th>\n",
       "      <th>F</th>\n",
       "      <th>M_</th>\n",
       "      <th>Aggreg</th>\n",
       "      <th>Direct</th>\n",
       "      <th>Inbound</th>\n",
       "      <th>Outbound</th>\n",
       "      <th>Annual</th>\n",
       "      <th>Monthly</th>\n",
       "    </tr>\n",
       "  </thead>\n",
       "  <tbody>\n",
       "    <tr>\n",
       "      <td>0</td>\n",
       "      <td>500</td>\n",
       "      <td>45</td>\n",
       "      <td>4</td>\n",
       "      <td>6000</td>\n",
       "      <td>4</td>\n",
       "      <td>289.4</td>\n",
       "      <td>-11.94</td>\n",
       "      <td>0</td>\n",
       "      <td>-0.0396</td>\n",
       "      <td>0</td>\n",
       "      <td>...</td>\n",
       "      <td>0</td>\n",
       "      <td>0</td>\n",
       "      <td>1</td>\n",
       "      <td>0</td>\n",
       "      <td>0</td>\n",
       "      <td>0</td>\n",
       "      <td>1</td>\n",
       "      <td>0</td>\n",
       "      <td>0</td>\n",
       "      <td>1</td>\n",
       "    </tr>\n",
       "    <tr>\n",
       "      <td>1</td>\n",
       "      <td>3000</td>\n",
       "      <td>40</td>\n",
       "      <td>8</td>\n",
       "      <td>6000</td>\n",
       "      <td>4</td>\n",
       "      <td>170.4</td>\n",
       "      <td>45.62</td>\n",
       "      <td>1</td>\n",
       "      <td>0.3700</td>\n",
       "      <td>0</td>\n",
       "      <td>...</td>\n",
       "      <td>0</td>\n",
       "      <td>0</td>\n",
       "      <td>0</td>\n",
       "      <td>1</td>\n",
       "      <td>0</td>\n",
       "      <td>0</td>\n",
       "      <td>1</td>\n",
       "      <td>0</td>\n",
       "      <td>0</td>\n",
       "      <td>1</td>\n",
       "    </tr>\n",
       "    <tr>\n",
       "      <td>2</td>\n",
       "      <td>4000</td>\n",
       "      <td>25</td>\n",
       "      <td>4</td>\n",
       "      <td>4000</td>\n",
       "      <td>4</td>\n",
       "      <td>466.1</td>\n",
       "      <td>-123.15</td>\n",
       "      <td>1</td>\n",
       "      <td>-0.2100</td>\n",
       "      <td>0</td>\n",
       "      <td>...</td>\n",
       "      <td>0</td>\n",
       "      <td>0</td>\n",
       "      <td>1</td>\n",
       "      <td>0</td>\n",
       "      <td>0</td>\n",
       "      <td>0</td>\n",
       "      <td>1</td>\n",
       "      <td>0</td>\n",
       "      <td>0</td>\n",
       "      <td>1</td>\n",
       "    </tr>\n",
       "    <tr>\n",
       "      <td>3</td>\n",
       "      <td>1800</td>\n",
       "      <td>42</td>\n",
       "      <td>9</td>\n",
       "      <td>10000</td>\n",
       "      <td>4</td>\n",
       "      <td>245.1</td>\n",
       "      <td>2.34</td>\n",
       "      <td>1</td>\n",
       "      <td>0.0100</td>\n",
       "      <td>0</td>\n",
       "      <td>...</td>\n",
       "      <td>0</td>\n",
       "      <td>0</td>\n",
       "      <td>0</td>\n",
       "      <td>1</td>\n",
       "      <td>0</td>\n",
       "      <td>0</td>\n",
       "      <td>1</td>\n",
       "      <td>0</td>\n",
       "      <td>1</td>\n",
       "      <td>0</td>\n",
       "    </tr>\n",
       "    <tr>\n",
       "      <td>4</td>\n",
       "      <td>5000</td>\n",
       "      <td>59</td>\n",
       "      <td>9</td>\n",
       "      <td>3000</td>\n",
       "      <td>4</td>\n",
       "      <td>240.5</td>\n",
       "      <td>42.56</td>\n",
       "      <td>0</td>\n",
       "      <td>0.2200</td>\n",
       "      <td>0</td>\n",
       "      <td>...</td>\n",
       "      <td>0</td>\n",
       "      <td>0</td>\n",
       "      <td>0</td>\n",
       "      <td>1</td>\n",
       "      <td>0</td>\n",
       "      <td>0</td>\n",
       "      <td>1</td>\n",
       "      <td>0</td>\n",
       "      <td>1</td>\n",
       "      <td>0</td>\n",
       "    </tr>\n",
       "  </tbody>\n",
       "</table>\n",
       "<p>5 rows × 23 columns</p>\n",
       "</div>"
      ],
      "text/plain": [
       "   Car Value  AGE  Years of No Claims Bonus  Annual Mileage  \\\n",
       "0        500   45                         4            6000   \n",
       "1       3000   40                         8            6000   \n",
       "2       4000   25                         4            4000   \n",
       "3       1800   42                         9           10000   \n",
       "4       5000   59                         9            3000   \n",
       "\n",
       "   Years of Tenure with Current Provider  Price  \\\n",
       "0                                      4  289.4   \n",
       "1                                      4  170.4   \n",
       "2                                      4  466.1   \n",
       "3                                      4  245.1   \n",
       "4                                      4  240.5   \n",
       "\n",
       "   Actual Change in Price vs last Year  Renewed?  \\\n",
       "0                               -11.94         0   \n",
       "1                                45.62         1   \n",
       "2                              -123.15         1   \n",
       "3                                 2.34         1   \n",
       "4                                42.56         0   \n",
       "\n",
       "   % Change in Price vs last Year  D  ...  W  C  F  M_  Aggreg  Direct  \\\n",
       "0                         -0.0396  0  ...  0  0  1   0       0       0   \n",
       "1                          0.3700  0  ...  0  0  0   1       0       0   \n",
       "2                         -0.2100  0  ...  0  0  1   0       0       0   \n",
       "3                          0.0100  0  ...  0  0  0   1       0       0   \n",
       "4                          0.2200  0  ...  0  0  0   1       0       0   \n",
       "\n",
       "   Inbound  Outbound  Annual  Monthly  \n",
       "0        1         0       0        1  \n",
       "1        1         0       0        1  \n",
       "2        1         0       0        1  \n",
       "3        1         0       1        0  \n",
       "4        1         0       1        0  \n",
       "\n",
       "[5 rows x 23 columns]"
      ]
     },
     "execution_count": 17,
     "metadata": {},
     "output_type": "execute_result"
    }
   ],
   "source": [
    "# DataFrame consisting of dummy variables of categorical variables\n",
    "Dummy_Marital_sex = pd.get_dummies(df['Marital Status'])\n",
    "Dummy_Gender = pd.get_dummies(df['Gender'])\n",
    "Dummy_Acquisition_Channel = pd.get_dummies(df['Acquisition Channel'])\n",
    "Dummy_Payment_Method = pd.get_dummies(df['Payment Method'])\n",
    "\n",
    "# Creating a dataframe of only numeric values.\n",
    "df1 = df[['Car Value','AGE','Years of No Claims Bonus', 'Annual Mileage',\\\n",
    "          'Years of Tenure with Current Provider','Price','Actual Change in Price vs last Year', 'Renewed?']]\n",
    "\n",
    "#Creating a DataFrame out of modified % Change in Price vs last Year.\n",
    "dat1 = pd.DataFrame({'% Change in Price vs last Year': new_lst1})\n",
    "\n",
    "#merging all dataframes together.\n",
    "df1=df1.join(dat1)\n",
    "df1=df1.join(Dummy_Marital_sex)\n",
    "df1=df1.join(Dummy_Gender, rsuffix = \"_\")\n",
    "df1=df1.join(Dummy_Acquisition_Channel)\n",
    "df1=df1.join(Dummy_Payment_Method)\n",
    "df1.head()"
   ]
  },
  {
   "cell_type": "markdown",
   "metadata": {},
   "source": [
    "Here each categorical variable is divided into multiple columns. For a single case, dummy variable of value 1 would decide its nature. For example, a male will have value of __1__ in __\"M_\"__ and __0__ in __\"F\"__. \n",
    "Next we must deal with outliers of our non-categorical variables."
   ]
  },
  {
   "cell_type": "code",
   "execution_count": 18,
   "metadata": {},
   "outputs": [
    {
     "data": {
      "text/plain": [
       "<matplotlib.axes._subplots.AxesSubplot at 0x2390957a4c8>"
      ]
     },
     "execution_count": 18,
     "metadata": {},
     "output_type": "execute_result"
    },
    {
     "data": {
      "image/png": "[encoded data removed]",
      "text/plain": [
       "<Figure size 1152x432 with 1 Axes>"
      ]
     },
     "metadata": {
      "needs_background": "light"
     },
     "output_type": "display_data"
    }
   ],
   "source": [
    "plt.figure(figsize=(16, 6))\n",
    "sns.boxplot(x=abs(df1['Actual Change in Price vs last Year']))\n",
    "#abs(df1['Actual Change in Price vs last Year']).describe()"
   ]
  },
  {
   "cell_type": "markdown",
   "metadata": {},
   "source": [
    "a box-plot of absolute values of __\"Actual Change in Price vs last Year\"__ show extreme values. To make our analysis better, we shall remove all values where absolute change in price is greater than 1000.  "
   ]
  },
  {
   "cell_type": "code",
   "execution_count": 19,
   "metadata": {},
   "outputs": [
    {
     "data": {
      "text/plain": [
       "<matplotlib.axes._subplots.AxesSubplot at 0x2390981bc08>"
      ]
     },
     "execution_count": 19,
     "metadata": {},
     "output_type": "execute_result"
    },
    {
     "data": {
      "image/png": "[encoded data removed]",
      "text/plain": [
       "<Figure size 1152x432 with 1 Axes>"
      ]
     },
     "metadata": {
      "needs_background": "light"
     },
     "output_type": "display_data"
    }
   ],
   "source": [
    "indexNames = df1[abs(df1['Actual Change in Price vs last Year']) - 1000 >= 0].index\n",
    "#indexNames are index values of change in prices that are extreme. \n",
    "df1.drop(indexNames , inplace=True)\n",
    "plt.figure(figsize=(16, 6))\n",
    "sns.boxplot(x=abs(df1['Actual Change in Price vs last Year']))"
   ]
  },
  {
   "cell_type": "code",
   "execution_count": 20,
   "metadata": {},
   "outputs": [
    {
     "data": {
      "text/plain": [
       "158"
      ]
     },
     "execution_count": 20,
     "metadata": {},
     "output_type": "execute_result"
    }
   ],
   "source": [
    "len(indexNames)"
   ]
  },
  {
   "cell_type": "markdown",
   "metadata": {},
   "source": [
    "## Logistic Regression\n",
    "\n",
    "Let's prepare our data for regression:"
   ]
  },
  {
   "cell_type": "code",
   "execution_count": 21,
   "metadata": {},
   "outputs": [
    {
     "data": {
      "text/plain": [
       "array([ 45.  ,   4.  ,   4.  , 289.4 , -11.94,   0.  ,   1.  ,   0.  ,\n",
       "         0.  ,   0.  ,   0.  ,   1.  ,   0.  ,   0.  ,   0.  ,   1.  ,\n",
       "         0.  ,   0.  ,   1.  ])"
      ]
     },
     "execution_count": 21,
     "metadata": {},
     "output_type": "execute_result"
    }
   ],
   "source": [
    "Y = np.asarray(df1['Renewed?'])\n",
    "X = np.asarray(df1[['AGE', 'Years of No Claims Bonus',\n",
    "       'Years of Tenure with Current Provider', 'Price',\n",
    "       'Actual Change in Price vs last Year',\n",
    "       'D', 'M', 'S', 'V', 'W', 'C', 'F',\n",
    "       'M_', 'Aggreg', 'Direct', 'Inbound', 'Outbound','Annual', 'Monthly']])\n",
    "X[0]            "
   ]
  },
  {
   "cell_type": "markdown",
   "metadata": {},
   "source": [
    "Also, we normalize the dataset:"
   ]
  },
  {
   "cell_type": "code",
   "execution_count": 22,
   "metadata": {},
   "outputs": [
    {
     "data": {
      "text/plain": [
       "array([ 0.01725857, -0.61295142,  1.78158182, -0.5321192 , -0.21245569,\n",
       "       -0.29197699,  0.92519258, -0.74302803, -0.06556351, -0.15226661,\n",
       "       -0.03175083,  1.09932647, -1.09709498, -0.02458913, -0.49426536,\n",
       "        0.49544808, -0.01229178, -0.61601981,  0.61601981])"
      ]
     },
     "execution_count": 22,
     "metadata": {},
     "output_type": "execute_result"
    }
   ],
   "source": [
    "#X = X.reshape(-1, 1)\n",
    "X = preprocessing.StandardScaler().fit(X).transform(X)\n",
    "X[0]"
   ]
  },
  {
   "cell_type": "markdown",
   "metadata": {},
   "source": [
    "## Train/Test dataset\n",
    "Okay, we split our dataset into train and test set:"
   ]
  },
  {
   "cell_type": "code",
   "execution_count": 23,
   "metadata": {},
   "outputs": [
    {
     "name": "stdout",
     "output_type": "stream",
     "text": [
      "Train set: (15887, 19) (15887,)\n",
      "Test set: (3972, 19) (3972,)\n"
     ]
    }
   ],
   "source": [
    "X_train, X_test, Y_train, Y_test = train_test_split( X, Y, test_size=0.2, random_state=4)\n",
    "print ('Train set:', X_train.shape,  Y_train.shape)\n",
    "print ('Test set:', X_test.shape,  Y_test.shape)"
   ]
  },
  {
   "cell_type": "markdown",
   "metadata": {},
   "source": [
    "## Modeling"
   ]
  },
  {
   "cell_type": "code",
   "execution_count": 24,
   "metadata": {},
   "outputs": [
    {
     "data": {
      "text/plain": [
       "LogisticRegression(C=0.01, class_weight=None, dual=False, fit_intercept=True,\n",
       "                   intercept_scaling=1, l1_ratio=None, max_iter=100,\n",
       "                   multi_class='warn', n_jobs=None, penalty='l2',\n",
       "                   random_state=None, solver='sag', tol=0.0001, verbose=0,\n",
       "                   warm_start=False)"
      ]
     },
     "execution_count": 24,
     "metadata": {},
     "output_type": "execute_result"
    }
   ],
   "source": [
    "LR = LogisticRegression(C=0.01, solver='sag').fit(X_train,Y_train)\n",
    "LR"
   ]
  },
  {
   "cell_type": "markdown",
   "metadata": {},
   "source": [
    "Now we can predict using our test set:"
   ]
  },
  {
   "cell_type": "code",
   "execution_count": 26,
   "metadata": {},
   "outputs": [
    {
     "data": {
      "text/plain": [
       "array([1, 1, 1, ..., 1, 1, 1], dtype=int64)"
      ]
     },
     "execution_count": 26,
     "metadata": {},
     "output_type": "execute_result"
    }
   ],
   "source": [
    "Yhat = LR.predict(X_test)\n",
    "Yhat"
   ]
  },
  {
   "cell_type": "markdown",
   "metadata": {},
   "source": [
    "## Evaluation\n",
    "Lets try __jaccard index__ for accuracy evaluation. If the entire set of predicted labels for a sample strictly match with the true set of labels, then the subset accuracy is 1.0; otherwise it is 0.0."
   ]
  },
  {
   "cell_type": "code",
   "execution_count": 27,
   "metadata": {},
   "outputs": [
    {
     "data": {
      "text/plain": [
       "0.6414027149321267"
      ]
     },
     "execution_count": 27,
     "metadata": {},
     "output_type": "execute_result"
    }
   ],
   "source": [
    "jaccard_score(Y_test, Yhat)"
   ]
  },
  {
   "cell_type": "markdown",
   "metadata": {},
   "source": [
    "__A Decent model!__"
   ]
  },
  {
   "cell_type": "markdown",
   "metadata": {},
   "source": [
    "Lets look at the values we have for our parameters\n",
    "        "
   ]
  },
  {
   "cell_type": "code",
   "execution_count": 45,
   "metadata": {},
   "outputs": [
    {
     "data": {
      "text/plain": [
       "array([[ 0.12109103, -0.02027361,  0.08695921, -0.32529685, -0.19440863,\n",
       "        -0.03480768,  0.00549758,  0.01517186, -0.0134226 ,  0.00159445,\n",
       "         0.02666001, -0.00548885,  0.00378929,  0.00944119, -0.00833798,\n",
       "         0.00917712, -0.04643059, -0.22567012,  0.22567012]])"
      ]
     },
     "execution_count": 45,
     "metadata": {},
     "output_type": "execute_result"
    }
   ],
   "source": [
    "LR.coef_"
   ]
  },
  {
   "cell_type": "code",
   "execution_count": 46,
   "metadata": {},
   "outputs": [
    {
     "name": "stdout",
     "output_type": "stream",
     "text": [
      "0.6807653575025177\n"
     ]
    }
   ],
   "source": [
    "score = LR.score(X_test, Y_test)\n",
    "print(score)"
   ]
  },
  {
   "cell_type": "code",
   "execution_count": 47,
   "metadata": {},
   "outputs": [
    {
     "data": {
      "text/plain": [
       "array([0.51497551])"
      ]
     },
     "execution_count": 47,
     "metadata": {},
     "output_type": "execute_result"
    }
   ],
   "source": [
    "LR.intercept_"
   ]
  },
  {
   "cell_type": "markdown",
   "metadata": {},
   "source": [
    "__What affects a customer's propensity to renew?__"
   ]
  },
  {
   "cell_type": "markdown",
   "metadata": {},
   "source": [
    "By looking at the values of parameters, we can see the categorical variable __Payment Method__ ,numerical variables __Actual change in prices__ and __Age__ to be the most important factors. As expected, Actual change in prices is negatively related to our dependent variable with a value of __-0.19439748__, While age seems to have a positive relation with the value of __0.12108259__. Payment method indicates a customer is most likely to renew his insurance if he has a monthly payment system."
   ]
  },
  {
   "cell_type": "markdown",
   "metadata": {},
   "source": [
    "__How does change in price affect renewal rates?__\n"
   ]
  },
  {
   "cell_type": "code",
   "execution_count": 48,
   "metadata": {},
   "outputs": [
    {
     "data": {
      "text/plain": [
       "<matplotlib.axes._subplots.AxesSubplot at 0x7fab7074c668>"
      ]
     },
     "execution_count": 48,
     "metadata": {},
     "output_type": "execute_result"
    },
    {
     "data": {
      "image/png": "[encoded data removed]",
      "text/plain": [
       "<Figure size 1152x432 with 1 Axes>"
      ]
     },
     "metadata": {
      "needs_background": "light"
     },
     "output_type": "display_data"
    }
   ],
   "source": [
    "plt.figure(figsize=(16, 6))\n",
    "sns.barplot(x=df1['Renewed?'],y=df1['Actual Change in Price vs last Year'])"
   ]
  },
  {
   "cell_type": "markdown",
   "metadata": {},
   "source": [
    "Bar chart above shows relation between change in prices and renewal rates.It seems customers not renewing their policy is __highly associated__ with the change in price and those who have renewed their policy have enjoyed a relatively small change in price"
   ]
  },
  {
   "cell_type": "markdown",
   "metadata": {},
   "source": [
    "__What are the key drivers of a customer's price elasticity?__\n",
    "\n",
    "elasticity of price means degree of responsiveness in Quantity demanded(renewal rate) due to change in price. There are several factors that influence this figure. In North America, anyone who owns a car needs to purchase insurance, it is a __necessity__, indicating elasticity < 1, meaning degree of response is less than change in price.\n",
    "\n",
    "Other key driver are the number of __substitutes__. If a lot of substitutes are available, an increase in price will prompt them to look for alternatives, indicating elasticity > 1.\n",
    "\n",
    "One other could be the __proportion of total expenditure premium payments__ make. Usually, a young person will have a high premium and thus will be relatively inelastic compared to an elderly."
   ]
  },
  {
   "cell_type": "code",
   "execution_count": 49,
   "metadata": {},
   "outputs": [
    {
     "name": "stdout",
     "output_type": "stream",
     "text": [
      "62.344528928949096\n"
     ]
    }
   ],
   "source": [
    "Total_obs=df1['Renewed?'].count()\n",
    "renew= df1['Renewed?'].sum()\n",
    "renew_rate = (renew/Total_obs)*100\n",
    "print(renew_rate)\n",
    "# proportion of customers that renewed."
   ]
  },
  {
   "cell_type": "markdown",
   "metadata": {},
   "source": [
    "## Conclusion\n",
    "\n",
    "Advice for the company will depend on price elasticity of renewals. Since we do not have information regarding renewal rate of last year, it is hard to get that value.\n",
    "\n",
    "__if elasticity > 1__, on average, __reducing the price__ of premiums will generate more than proportionate change in renewal rate, Total revenue will increase as revenue gained through higher renewal rate is greater than loss of revenue due to increase in price.\n",
    "\n",
    "__if elasticity < 1__, on average, __increasing the price__ of premiums will generate less than proportionate change in renewal rate, Total revenue will increase as revenue gained through higher price is greater than loss of revenue due to lower renewal rate.\n",
    "\n",
    "__if elasticity = 1__, on average, __reducing or increasing the price__ of premiums price will not affect total revenue by a significant amount as change in price is bringing same proportionate change in renewal rate."
   ]
  }
 ],
 "metadata": {
  "kernelspec": {
   "display_name": "Python 3",
   "language": "python",
   "name": "python3"
  },
  "language_info": {
   "codemirror_mode": {
    "name": "ipython",
    "version": 3
   },
   "file_extension": ".py",
   "mimetype": "text/x-python",
   "name": "python",
   "nbconvert_exporter": "python",
   "pygments_lexer": "ipython3",
   "version": "3.7.4"
  }
 },
 "nbformat": 4,
 "nbformat_minor": 4
}
